{
 "cells": [
  {
   "cell_type": "code",
   "execution_count": 1,
   "metadata": {},
   "outputs": [],
   "source": [
    "%load_ext autoreload\n",
    "%autoreload 2\n",
    "\n",
    "import pandas as pd\n",
    "from sklearn.ensemble import RandomForestRegressor\n",
    "from sklearn.neural_network import MLPRegressor\n",
    "from sklearn.linear_model import LinearRegression\n",
    "from sklearn.preprocessing import StandardScaler\n",
    "from sklearn.model_selection import KFold\n",
    "from sklearn.metrics import r2_score\n",
    "from scipy import stats\n",
    "import numpy as np\n",
    "import seaborn as sns\n",
    "import matplotlib.pyplot as plt"
   ]
  },
  {
   "cell_type": "code",
   "execution_count": 2,
   "metadata": {},
   "outputs": [],
   "source": [
    "n_splits = 5\n",
    "test_size = 0.2\n",
    "random_state = 42\n",
    "shuffle = True\n",
    "flip = False"
   ]
  },
  {
   "cell_type": "code",
   "execution_count": 3,
   "metadata": {},
   "outputs": [
    {
     "data": {
      "text/plain": [
       "((2501, 19), (2501, 19))"
      ]
     },
     "execution_count": 3,
     "metadata": {},
     "output_type": "execute_result"
    }
   ],
   "source": [
    "x = pd.read_csv('../../data/node/u.txt', index_col=None, header=None).T\n",
    "y = pd.read_csv('../../data/node/du.txt', index_col=None, header=None).T\n",
    "x = x.values\n",
    "y = y.values\n",
    "if flip:\n",
    "    t = x\n",
    "    x = y\n",
    "    y = t\n",
    "x.shape, y.shape"
   ]
  },
  {
   "cell_type": "code",
   "execution_count": 4,
   "metadata": {},
   "outputs": [
    {
     "name": "stdout",
     "output_type": "stream",
     "text": [
      "Fold 1/5 \n",
      "\t Train...\n",
      "Fold 2/5 \n",
      "\t Train...\n",
      "Fold 3/5 \n",
      "\t Train...\n",
      "Fold 4/5 \n",
      "\t Train...\n",
      "Fold 5/5 \n",
      "\t Train...\n"
     ]
    }
   ],
   "source": [
    "r2_train_list, r2_test_list = [], []\n",
    "sss = KFold(n_splits=n_splits, shuffle=shuffle, random_state=random_state)\n",
    "for split, (train_index, test_index) in enumerate(sss.split(x, y)):\n",
    "    print(f\"Fold {split+1}/{n_splits} \\n\\t Train...\")\n",
    "    x_train, x_test = x[train_index], x[test_index]\n",
    "    y_train, y_test = y[train_index], y[test_index]\n",
    "    \n",
    "    scaler_x = StandardScaler()\n",
    "    scaler_x.fit(x_train)\n",
    "    x_train = scaler_x.transform(x_train)\n",
    "    x_test = scaler_x.transform(x_test)\n",
    "    \n",
    "    scaler_y = StandardScaler()\n",
    "    scaler_y.fit(y_train)\n",
    "    y_train = scaler_y.transform(y_train)\n",
    "    y_test = scaler_y.transform(y_test)\n",
    "    \n",
    "#     model = RandomForestRegressor(random_state=random_state)\n",
    "#     model = LinearRegression()\n",
    "    model = MLPRegressor()\n",
    "    model.fit(x_train, y_train)\n",
    "    y_train_pred = model.predict(x_train)\n",
    "    y_test_pred = model.predict(x_test)\n",
    "    \n",
    "    y_train = scaler_y.inverse_transform(y_train)\n",
    "    y_test = scaler_y.inverse_transform(y_test)\n",
    "    y_train_pred = scaler_y.inverse_transform(y_train_pred)\n",
    "    y_test_pred = scaler_y.inverse_transform(y_test_pred)\n",
    "    \n",
    "    r2_train = r2_score(y_train, y_train_pred)\n",
    "    r2_test = r2_score(y_test, y_test_pred)\n",
    "    r2_train_list.append(r2_train)\n",
    "    r2_test_list.append(r2_test)"
   ]
  },
  {
   "cell_type": "code",
   "execution_count": 5,
   "metadata": {},
   "outputs": [
    {
     "name": "stdout",
     "output_type": "stream",
     "text": [
      "Fold 1/5\n",
      "\t R2 train: 0.99 +- 0.00\n",
      "\t R2 test: 0.99 +- 0.02\n",
      "Fold 2/5\n",
      "\t R2 train: 0.99 +- 0.00\n",
      "\t R2 test: 0.99 +- 0.02\n",
      "Fold 3/5\n",
      "\t R2 train: 0.99 +- 0.00\n",
      "\t R2 test: 0.99 +- 0.02\n",
      "Fold 4/5\n",
      "\t R2 train: 0.99 +- 0.00\n",
      "\t R2 test: 0.99 +- 0.02\n",
      "Fold 5/5\n",
      "\t R2 train: 0.99 +- 0.00\n",
      "\t R2 test: 0.99 +- 0.02\n"
     ]
    }
   ],
   "source": [
    "for split in range(n_splits):\n",
    "    print(f\"Fold {split+1}/{n_splits}\")\n",
    "    print(f'\\t R2 train: {np.median(r2_train_list):.2f} +- {4*stats.sem(r2_train_list):.2f}')\n",
    "    print(f'\\t R2 test: {np.median(r2_test_list):.2f} +- {4*stats.sem(r2_test_list):.2f}')"
   ]
  },
  {
   "cell_type": "code",
   "execution_count": 6,
   "metadata": {},
   "outputs": [
    {
     "data": {
      "image/png": "[encoded data removed]",
      "text/plain": [
       "<Figure size 432x288 with 1 Axes>"
      ]
     },
     "metadata": {
      "needs_background": "light"
     },
     "output_type": "display_data"
    }
   ],
   "source": [
    "t_train = np.arange(0, len(y_train))\n",
    "plt.figure()\n",
    "plt.scatter(t_train, y_train[:, 0], label='true', s=100)\n",
    "plt.scatter(t_train, y_train_pred[:, 0], label='pred', marker='x', s=10)\n",
    "plt.legend()\n",
    "plt.show()"
   ]
  }
 ],
 "metadata": {
  "kernelspec": {
   "display_name": "Python 3 (ipykernel)",
   "language": "python",
   "name": "python3"
  },
  "language_info": {
   "codemirror_mode": {
    "name": "ipython",
    "version": 3
   },
   "file_extension": ".py",
   "mimetype": "text/x-python",
   "name": "python",
   "nbconvert_exporter": "python",
   "pygments_lexer": "ipython3",
   "version": "3.9.7"
  }
 },
 "nbformat": 4,
 "nbformat_minor": 1
}