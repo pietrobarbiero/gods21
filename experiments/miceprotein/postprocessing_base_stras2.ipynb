{
 "cells": [
  {
   "cell_type": "code",
   "execution_count": 58,
   "metadata": {},
   "outputs": [],
   "source": [
    "import sys\n",
    "sys.path.append('../..')\n",
    "import wandb\n",
    "from data import load_data_strasb\n",
    "from model_configs import build_model\n",
    "from sklearn.linear_model import RidgeClassifier\n",
    "from meco import MECO\n",
    "from models import GCN, train_lens, test_lens\n",
    "import os\n",
    "import joblib\n",
    "from scipy.io import arff\n",
    "import pandas as pd\n",
    "from sklearn import preprocessing\n",
    "from sklearn.impute import KNNImputer\n",
    "from sklearn.ensemble import RandomForestClassifier\n",
    "from sklearn.tree import DecisionTreeClassifier\n",
    "from sklearn.model_selection import cross_val_score, StratifiedKFold\n",
    "from xgboost import XGBClassifier\n",
    "import torch\n",
    "import torch_explain as te\n",
    "from torch.nn.functional import one_hot\n",
    "from torch_explain.logic.nn import entropy\n",
    "from torch_explain.logic.metrics import test_explanation, complexity\n",
    "from sklearn.metrics import f1_score, accuracy_score\n",
    "from sklearn.model_selection import StratifiedShuffleSplit\n",
    "import torch.nn as nn\n",
    "from torch_geometric.data import Data\n",
    "from torch_geometric.nn import GCNConv, Sequential\n",
    "from torch_geometric.utils.convert import from_networkx\n",
    "from sklearn.feature_selection import SelectKBest, chi2, f_classif\n",
    "from torch_geometric.utils import to_undirected, add_remaining_self_loops\n",
    "import numpy as np\n",
    "import matplotlib.pyplot as plt\n",
    "import matplotlib\n",
    "import seaborn as sns\n",
    "import networkx as nx\n",
    "from torch.nn.functional import one_hot, leaky_relu\n",
    "from sklearn.feature_selection import RFECV"
   ]
  },
  {
   "cell_type": "code",
   "execution_count": 47,
   "metadata": {},
   "outputs": [],
   "source": [
    "font = {'family' : 'normal',\n",
    "        'weight' : 'normal',\n",
    "        'size'   : 22}\n",
    "plt.rc('font', **font)"
   ]
  },
  {
   "cell_type": "code",
   "execution_count": 3,
   "metadata": {},
   "outputs": [
    {
     "data": {
      "text/plain": [
       "10"
      ]
     },
     "execution_count": 3,
     "metadata": {},
     "output_type": "execute_result"
    }
   ],
   "source": [
    "models = ['GCN']\n",
    "# models = ['GCN', 'DT']\n",
    "\n",
    "# load data\n",
    "x, y, is_control, fnames, cnames = load_data_strasb(data_path='../../data/strasb/')"
   ]
  },
  {
   "cell_type": "code",
   "execution_count": 59,
   "metadata": {},
   "outputs": [],
   "source": [
    "skb = SelectKBest(k=500)\n",
    "rfe = RFECV(RandomForestClassifier(random_state=42), step=1, cv=3, min_features_to_select=1, n_jobs=3)\n",
    "x1 = skb.fit_transform(x, y)\n",
    "x2 = rfe.fit_transform(x1, y)"
   ]
  },
  {
   "cell_type": "code",
   "execution_count": 60,
   "metadata": {},
   "outputs": [
    {
     "data": {
      "text/plain": [
       "['./stras-artifacts\\\\rfe.joblib']"
      ]
     },
     "execution_count": 60,
     "metadata": {},
     "output_type": "execute_result"
    }
   ],
   "source": [
    "joblib.dump(skb, os.path.join('./stras-artifacts', f'skb.joblib'))\n",
    "joblib.dump(rfe, os.path.join('./stras-artifacts', f'rfe.joblib'))"
   ]
  },
  {
   "cell_type": "code",
   "execution_count": 64,
   "metadata": {},
   "outputs": [
    {
     "data": {
      "image/png": "[encoded data removed]",
      "text/plain": [
       "<Figure size 576x288 with 1 Axes>"
      ]
     },
     "metadata": {
      "needs_background": "light"
     },
     "output_type": "display_data"
    }
   ],
   "source": [
    "skb = joblib.load(os.path.join('./stras-artifacts', f'skb.joblib'))\n",
    "rfe = joblib.load(os.path.join('./stras-artifacts', f'rfe.joblib'))\n",
    "mscore, sscore = rfe.cv_results_['mean_test_score'], rfe.cv_results_['std_test_score']\n",
    "nfeatures = np.arange(len(mscore))\n",
    "\n",
    "result_dir = './stras-results/figs_base'\n",
    "os.makedirs(result_dir, exist_ok=True)\n",
    "\n",
    "maxf = 80\n",
    "plt.figure(figsize=[8, 4])\n",
    "plt.errorbar(nfeatures[:maxf], mscore[:maxf], yerr=sscore[:maxf])\n",
    "bestf = np.argmax(mscore[:maxf])\n",
    "plt.scatter([bestf], mscore[:maxf][bestf], marker='*', s=300, c='r', zorder=100)\n",
    "# plt.ylim([0.5, 0.8])\n",
    "plt.title('Recursive Feature Elimination')\n",
    "plt.ylabel('accuracy (%)')\n",
    "plt.xlabel('number of selected features')\n",
    "plt.savefig(os.path.join(result_dir, 'rfe.png'))\n",
    "plt.savefig(os.path.join(result_dir, 'rfe.pdf'))\n",
    "plt.show()"
   ]
  },
  {
   "cell_type": "code",
   "execution_count": 73,
   "metadata": {},
   "outputs": [
    {
     "data": {
      "text/plain": [
       "(500,)"
      ]
     },
     "execution_count": 73,
     "metadata": {},
     "output_type": "execute_result"
    }
   ],
   "source": [
    "rfe.support_.shape"
   ]
  },
  {
   "cell_type": "code",
   "execution_count": 74,
   "metadata": {},
   "outputs": [
    {
     "data": {
      "text/plain": [
       "(40895,)"
      ]
     },
     "execution_count": 74,
     "metadata": {},
     "output_type": "execute_result"
    }
   ],
   "source": [
    "skb.get_support().shape"
   ]
  },
  {
   "cell_type": "code",
   "execution_count": 77,
   "metadata": {},
   "outputs": [
    {
     "data": {
      "text/plain": [
       "Index(['ENSMUSG00000022951', 'ENSMUSG00000022957', 'ENSMUSG00000022960',\n",
       "       'ENSMUSG00000022961', 'ENSMUSG00000022962', 'ENSMUSG00000022964',\n",
       "       'ENSMUSG00000022965', 'ENSMUSG00000022967', 'ENSMUSG00000022969',\n",
       "       'ENSMUSG00000022971', 'ENSMUSG00000022973', 'ENSMUSG00000022978',\n",
       "       'ENSMUSG00000022982', 'ENSMUSG00000022983', 'ENSMUSG00000023935',\n",
       "       'ENSMUSG00000024039', 'ENSMUSG00000024210', 'ENSMUSG00000024778',\n",
       "       'ENSMUSG00000025613', 'ENSMUSG00000025854', 'ENSMUSG00000026048',\n",
       "       'ENSMUSG00000028334', 'ENSMUSG00000028364', 'ENSMUSG00000028698',\n",
       "       'ENSMUSG00000031302', 'ENSMUSG00000031594', 'ENSMUSG00000031610',\n",
       "       'ENSMUSG00000040785', 'ENSMUSG00000040820', 'ENSMUSG00000042962',\n",
       "       'ENSMUSG00000044626', 'ENSMUSG00000045975', 'ENSMUSG00000047412',\n",
       "       'ENSMUSG00000048406', 'ENSMUSG00000050953', 'ENSMUSG00000051396',\n",
       "       'ENSMUSG00000052125', 'ENSMUSG00000052299', 'ENSMUSG00000052957',\n",
       "       'ENSMUSG00000053062', 'ENSMUSG00000053414', 'ENSMUSG00000057715',\n",
       "       'ENSMUSG00000058240', 'ENSMUSG00000059089', 'ENSMUSG00000060284',\n",
       "       'ENSMUSG00000063297', 'ENSMUSG00000063661', 'ENSMUSG00000064147',\n",
       "       'ENSMUSG00000066838', 'ENSMUSG00000066900', 'ENSMUSG00000069270',\n",
       "       'ENSMUSG00000070532', 'ENSMUSG00000074637', 'ENSMUSG00000076431'],\n",
       "      dtype='object')"
      ]
     },
     "execution_count": 77,
     "metadata": {},
     "output_type": "execute_result"
    }
   ],
   "source": [
    "fnames_skb = fnames[skb.get_support()]\n",
    "fnames_rfe = fnames_skb[rfe.support_]\n",
    "fnames_rfe"
   ]
  },
  {
   "cell_type": "code",
   "execution_count": 109,
   "metadata": {},
   "outputs": [],
   "source": [
    "pd.Series(fnames_rfe).to_csv(os.path.join(result_dir, 'best_features.csv'))"
   ]
  },
  {
   "cell_type": "code",
   "execution_count": 81,
   "metadata": {},
   "outputs": [
    {
     "name": "stdout",
     "output_type": "stream",
     "text": [
      "Epoch 0: 0.6906304359436035\n",
      "Epoch 500: 0.01280996948480606\n",
      "Epoch 1000: 0.003182475222274661\n",
      "Epoch 1500: 0.001399303087964654\n",
      "Epoch 2000: 0.000763585208915174\n",
      "Epoch 2500: 0.0004589246236719191\n",
      "Epoch 3000: 0.00030599263845942914\n",
      "Epoch 3500: 0.00020572195353452116\n",
      "Epoch 4000: 0.00014806273975409567\n",
      "Epoch 4500: 0.00010661588748916984\n",
      "Epoch 5000: 7.80978225520812e-05\n",
      "Epoch 5500: 5.8234269090462476e-05\n",
      "Epoch 6000: 4.301944136386737e-05\n",
      "Epoch 6500: 3.304393612779677e-05\n",
      "Epoch 7000: 2.4657832909724675e-05\n",
      "Epoch 7500: 1.8825698134605773e-05\n",
      "Epoch 8000: 1.4117303180682939e-05\n",
      "Epoch 8500: 1.0817963811859954e-05\n",
      "Epoch 9000: 8.182704732462298e-06\n",
      "Epoch 9500: 6.303092959569767e-06\n",
      "Epoch 10000: 4.86410590383457e-06\n"
     ]
    }
   ],
   "source": [
    "train_index = test_index = np.arange(len(x2))\n",
    "xtorch = torch.FloatTensor(x2)\n",
    "model = train_lens(xtorch, y, [], train_index, 0.7)"
   ]
  },
  {
   "cell_type": "code",
   "execution_count": 83,
   "metadata": {},
   "outputs": [
    {
     "name": "stdout",
     "output_type": "stream",
     "text": [
      "[0.02450794 0.9007007  0.01028289 0.36940646 0.02507183 0.965781\n",
      " 0.9642247  0.9913884  0.5343197  0.01932873 0.96760774 0.01779258\n",
      " 0.9563923  0.9711758  0.97002757 0.02264174 0.9637063  0.9818406\n",
      " 0.9862565  0.00654112 0.01279324 0.9577654  0.9854056  0.9821173\n",
      " 0.9856759  0.01007391 0.96609384 0.9803497  0.9663467  0.9641727\n",
      " 0.95179135 0.01515048 0.9874833  0.8417503  0.9209506  0.9632096\n",
      " 0.98894364 0.99175197 0.9751364  0.99842525 0.99024266 0.99700993\n",
      " 0.00959369 0.0058304  0.9774874  0.9806287  0.9758122  0.9725985\n",
      " 0.01855704 0.01845123 0.01029505 0.9607766  0.21219623 0.03159397]\n",
      "[0.02932938 0.9757414  0.07165201 0.6383803  0.9367873  0.9684506\n",
      " 0.9879524  0.9941885  0.9773964  0.96812606 0.987021   0.9452779\n",
      " 0.9891044  0.9862998  0.97365695 0.02386062 0.97538465 0.99574995\n",
      " 0.99248147 0.01417193 0.01290352 0.98407674 0.994336   0.9939222\n",
      " 0.9939235  0.01452716 0.99094695 0.99206746 0.9857779  0.9793236\n",
      " 0.9660762  0.05466295 0.9932991  0.99203724 0.9845035  0.9674896\n",
      " 1.         0.99792784 0.976638   1.         0.9942468  0.997028\n",
      " 0.96805865 0.04303636 0.9851323  0.98509467 0.98864555 0.9809908\n",
      " 0.90176433 0.9382263  0.9804109  0.9976082  0.9646382  0.9372144 ]\n",
      "[0.02450794 0.9007007  0.01028289 0.36940646 0.02507183 0.965781\n",
      " 0.9642247  0.9913884  0.5343197  0.01932873 0.96760774 0.01779258\n",
      " 0.9563923  0.9711758  0.97002757 0.02264174 0.9637063  0.9818406\n",
      " 0.9862565  0.00654112 0.01279324 0.9577654  0.9854056  0.9821173\n",
      " 0.9856759  0.01007391 0.96609384 0.9803497  0.9663467  0.9641727\n",
      " 0.95179135 0.01515048 0.9874833  0.8417503  0.9209506  0.9632096\n",
      " 0.98894364 0.99175197 0.9751364  0.99842525 0.99024266 0.99700993\n",
      " 0.00959369 0.0058304  0.9774874  0.9806287  0.9758122  0.9725985\n",
      " 0.01855704 0.01845123 0.01029505 0.9607766  0.21219623 0.03159397]\n",
      "Test F1: 1.0\n",
      "{'0': {'explanation': 'ENSMUSG00000053062 & ~ENSMUSG00000028364 & ~ENSMUSG00000048406', 'name': 'mem=1', 'explanation_accuracy': 0.8214285714285714, 'explanation_complexity': 3}, '1': {'explanation': '~ENSMUSG00000024778 | ~ENSMUSG00000053062 | ~ENSMUSG00000053414', 'name': 'mem=1', 'explanation_accuracy': 0.9642857142857143, 'explanation_complexity': 3}}\n"
     ]
    },
    {
     "data": {
      "text/plain": [
       "{'0': {'explanation': 'ENSMUSG00000053062 & ~ENSMUSG00000028364 & ~ENSMUSG00000048406',\n",
       "  'name': 'mem=1',\n",
       "  'explanation_accuracy': 0.8214285714285714,\n",
       "  'explanation_complexity': 3},\n",
       " '1': {'explanation': '~ENSMUSG00000024778 | ~ENSMUSG00000053062 | ~ENSMUSG00000053414',\n",
       "  'name': 'mem=1',\n",
       "  'explanation_accuracy': 0.9642857142857143,\n",
       "  'explanation_complexity': 3},\n",
       " 'accuracy': 1.0,\n",
       " 'f1': 1.0}"
      ]
     },
     "execution_count": 83,
     "metadata": {},
     "output_type": "execute_result"
    }
   ],
   "source": [
    "print(model.lens.alpha_norm.median(dim=0)[0].detach().numpy())\n",
    "print(model.lens.alpha_norm.max(dim=0)[0].detach().numpy())\n",
    "print(model.lens.alpha_norm.min(dim=0)[0].detach().numpy())\n",
    "explanations = test_lens(model, xtorch, y, [], train_index, test_index, fnames_rfe, cnames)\n",
    "explanations"
   ]
  },
  {
   "cell_type": "code",
   "execution_count": 106,
   "metadata": {},
   "outputs": [],
   "source": [
    "cols = ['Formula', 'Coverage']\n",
    "explanations_fmt = pd.DataFrame(columns=cols)\n",
    "for yid, res in explanations.items():\n",
    "    if yid in ['accuracy', 'f1']: continue\n",
    "    formula = res['explanation'].replace(' &', ') AND').replace(' |', ') OR')\n",
    "    formula = formula.replace('~ENSMUSG', 'underExpressed(ENSMUSG').replace(' ENSMUSG', 'overExpressed(ENSMUSG')\n",
    "    if formula.startswith('ENSMUSG'):\n",
    "        formula = 'overExpressed(' + formula\n",
    "    \n",
    "    formula += ')'\n",
    "    formula = 'class=' + str(yid) + ' <- ' + formula\n",
    "    fm_df = pd.DataFrame([[formula, res['explanation_accuracy']]], columns=cols)\n",
    "    explanations_fmt = pd.concat((explanations_fmt, fm_df))\n",
    "\n",
    "explanations_fmt.reset_index(inplace=True, drop=True)"
   ]
  },
  {
   "cell_type": "code",
   "execution_count": 107,
   "metadata": {},
   "outputs": [
    {
     "data": {
      "text/html": [
       "<div>\n",
       "<style scoped>\n",
       "    .dataframe tbody tr th:only-of-type {\n",
       "        vertical-align: middle;\n",
       "    }\n",
       "\n",
       "    .dataframe tbody tr th {\n",
       "        vertical-align: top;\n",
       "    }\n",
       "\n",
       "    .dataframe thead th {\n",
       "        text-align: right;\n",
       "    }\n",
       "</style>\n",
       "<table border=\"1\" class=\"dataframe\">\n",
       "  <thead>\n",
       "    <tr style=\"text-align: right;\">\n",
       "      <th></th>\n",
       "      <th>Formula</th>\n",
       "      <th>Coverage</th>\n",
       "    </tr>\n",
       "  </thead>\n",
       "  <tbody>\n",
       "    <tr>\n",
       "      <th>0</th>\n",
       "      <td>class=0 &lt;- overExpressed(ENSMUSG00000053062) A...</td>\n",
       "      <td>0.821429</td>\n",
       "    </tr>\n",
       "    <tr>\n",
       "      <th>1</th>\n",
       "      <td>class=1 &lt;- underExpressed(ENSMUSG00000024778) ...</td>\n",
       "      <td>0.964286</td>\n",
       "    </tr>\n",
       "  </tbody>\n",
       "</table>\n",
       "</div>"
      ],
      "text/plain": [
       "                                             Formula  Coverage\n",
       "0  class=0 <- overExpressed(ENSMUSG00000053062) A...  0.821429\n",
       "1  class=1 <- underExpressed(ENSMUSG00000024778) ...  0.964286"
      ]
     },
     "execution_count": 107,
     "metadata": {},
     "output_type": "execute_result"
    }
   ],
   "source": [
    "explanations_fmt.to_csv(os.path.join(result_dir, 'explanations.csv'))\n",
    "explanations_fmt"
   ]
  }
 ],
 "metadata": {
  "kernelspec": {
   "display_name": "Python 3 (ipykernel)",
   "language": "python",
   "name": "python3"
  },
  "language_info": {
   "codemirror_mode": {
    "name": "ipython",
    "version": 3
   },
   "file_extension": ".py",
   "mimetype": "text/x-python",
   "name": "python",
   "nbconvert_exporter": "python",
   "pygments_lexer": "ipython3",
   "version": "3.9.7"
  }
 },
 "nbformat": 4,
 "nbformat_minor": 1
}
